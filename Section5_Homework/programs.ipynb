{
 "cells": [
  {
   "cell_type": "code",
   "execution_count": 3,
   "id": "7d8e2406",
   "metadata": {},
   "outputs": [
    {
     "name": "stdout",
     "output_type": "stream",
     "text": [
      "[[[ 0  1]\n",
      "  [ 2  3]\n",
      "  [ 4  5]]\n",
      "\n",
      " [[ 6  7]\n",
      "  [ 8  9]\n",
      "  [10 11]]]\n"
     ]
    }
   ],
   "source": [
    "# 7. Import NumPy, use one of the NumPy methods and create an array with a shape of (2, 3, 2). \n",
    "# You can use the reshape method -- .reshape()\n",
    "\n",
    "import numpy as np\n",
    "\n",
    "# Create a 1D array with 12 elements        \n",
    "arr = np.arange(12)\n",
    "# Reshape the 1D array into a 3D array with shape (2, 3, 2)\n",
    "reShapedArray = arr.reshape((2, 3, 2))  \n",
    "# Print the resulting 3D array\n",
    "print(reShapedArray) "
   ]
  },
  {
   "cell_type": "code",
   "execution_count": 4,
   "id": "7a0d89a2",
   "metadata": {},
   "outputs": [
    {
     "name": "stdout",
     "output_type": "stream",
     "text": [
      "[ 0.  4.  8. 12. 16. 20.]\n"
     ]
    }
   ],
   "source": [
    "# 8. Use NumPy .linspace() to create an array with 6 linearly spaced values between 0 and 20\n",
    "array_linspace = np.linspace(0, 20, 6)\n",
    "    \n",
    "print(array_linspace)\n"
   ]
  },
  {
   "cell_type": "code",
   "execution_count": 5,
   "id": "803eccca",
   "metadata": {},
   "outputs": [
    {
     "name": "stdout",
     "output_type": "stream",
     "text": [
      "Original: [ 0.  4.  8. 12. 16. 20.]\n",
      "Deep Copy: [ 0.  4.  8. 12. 16. 20.]\n"
     ]
    }
   ],
   "source": [
    "# 9. Make a Deep Copy of the above array\n",
    "import numpy as np\n",
    "\n",
    "# Original array\n",
    "arr = np.linspace(0, 20, 6)\n",
    "\n",
    "# Deep copy\n",
    "deep_copy = np.copy(arr)\n",
    "\n",
    "print(\"Original:\", arr)\n",
    "print(\"Deep Copy:\", deep_copy)\n"
   ]
  },
  {
   "cell_type": "code",
   "execution_count": 6,
   "id": "089d4072",
   "metadata": {},
   "outputs": [
    {
     "name": "stdout",
     "output_type": "stream",
     "text": [
      "newArray:\n",
      " [[25 16]\n",
      " [11  2]\n",
      " [13  4]\n",
      " [ 7 81]\n",
      " [ 5  6]\n",
      " [11 12]]\n"
     ]
    }
   ],
   "source": [
    "# 10. Concatenate these 3 arrays into a new array named 'newArray'...\n",
    "# ([[25, 16]])\n",
    "#        ([[11, 2], [13, 4]])\n",
    "#       ([[7, 81], [5, 6], [11, 12]])\n",
    "\n",
    "import numpy as np\n",
    "\n",
    "a = np.array([[25, 16]])\n",
    "b = np.array([[11, 2], [13, 4]])\n",
    "c = np.array([[7, 81], [5, 6], [11, 12]])\n",
    "\n",
    "# Concatenate along rows (axis=0)\n",
    "newArray = np.concatenate((a, b, c), axis=0)\n",
    "\n",
    "print(\"newArray:\\n\", newArray)\n"
   ]
  },
  {
   "cell_type": "code",
   "execution_count": 7,
   "id": "593621f3",
   "metadata": {},
   "outputs": [
    {
     "name": "stdout",
     "output_type": "stream",
     "text": [
      "Each row sorted:\n",
      " [[16 25]\n",
      " [ 2 11]\n",
      " [ 4 13]\n",
      " [ 7 81]\n",
      " [ 5  6]\n",
      " [11 12]]\n"
     ]
    }
   ],
   "source": [
    "# 11. Sort 'newArray' in order into 'sortedArray'\n",
    "# Sort each row individually\n",
    "sortedArray = np.sort(newArray, axis=1)\n",
    "print(\"Each row sorted:\\n\", sortedArray)"
   ]
  },
  {
   "cell_type": "code",
   "execution_count": 8,
   "id": "1afded16",
   "metadata": {},
   "outputs": [
    {
     "name": "stdout",
     "output_type": "stream",
     "text": [
      "ReShaped Array [[[ 0  1]\n",
      "  [ 2  3]\n",
      "  [ 4  5]]\n",
      "\n",
      " [[ 6  7]\n",
      "  [ 8  9]\n",
      "  [10 11]]]\n",
      "------------------------\n",
      "First pair: [0 1]\n",
      "Second pair: [2 3]\n",
      "Third pair: [4 5]\n",
      "Third pair: [6 7]\n"
     ]
    }
   ],
   "source": [
    "# 12. Unpack the array tuples from the above 'reshapedArray' into 4 well named variables. Print the 4 variables.\n",
    "#reshaped_arr = reShapedArray.reshape(2, 3, 2)\n",
    "\n",
    "print('ReShaped Array',reShapedArray)\n",
    "\n",
    "# Unpack the first four 2-element arrays from reShapedArray\n",
    "first_pair = reShapedArray[0, 0]\n",
    "second_pair = reShapedArray[0, 1]\n",
    "third_pair = reShapedArray[0, 2]\n",
    "fourth_pair = reShapedArray[1, 0]\n",
    "print('------------------------')\n",
    "print(\"First pair:\", first_pair)\n",
    "print(\"Second pair:\", second_pair)\n",
    "print(\"Third pair:\", third_pair)\n",
    "print(\"Third pair:\", fourth_pair)\n"
   ]
  },
  {
   "cell_type": "code",
   "execution_count": 9,
   "id": "a3a70746",
   "metadata": {},
   "outputs": [
    {
     "name": "stdout",
     "output_type": "stream",
     "text": [
      "Combined and sorted array: [ 0  1  2  3  4  5  6  7 10 11 12 13 14 15 16 17 20 21 22 23 24 25 26 27]\n"
     ]
    }
   ],
   "source": [
    "#13. Combined and sort the following arrays into one called 'comboArray' ...\n",
    "#one = ([10, 11, 12, 13, 14, 15, 16, 17])\n",
    "#two = ([20, 21, 22, 23, 24, 25, 26, 27])\n",
    "#three = ([ 0, 1, 2, 3, 4, 5, 6, 7])\n",
    "\n",
    "one = np.array([10, 11, 12, 13, 14, 15, 16, 17])\n",
    "two = np.array([20, 21, 22, 23, 24, 25, 26, 27])\n",
    "three = np.array([0, 1, 2, 3, 4, 5, 6, 7])\n",
    "# Combine the arrays\n",
    "comboArray = np.concatenate((one, two, three))\n",
    "# Sort the combined array\n",
    "comboArray = np.sort(comboArray)\n",
    "print(\"Combined and sorted array:\", comboArray)\n"
   ]
  },
  {
   "cell_type": "code",
   "execution_count": 19,
   "id": "e17f87e4",
   "metadata": {},
   "outputs": [
    {
     "name": "stdout",
     "output_type": "stream",
     "text": [
      "sec1: 1\n",
      "sec2: [ 2  3  4  5  6  7 10 11 12 13 14 15 16 17 20 21 22 23 24 25 26 27]\n",
      "sec3: [ 3  4  5  6  7 10 11 12 13 14 15]\n",
      "sec4: [22 23 24 25 26 27]\n",
      "sec5: [ 0  1  2  3  4  5  6  7 10 11 12 13 14 15]\n",
      "Numbers from 20: [20 21 22 23 24 25 26 27]\n",
      "sec6: [20 22 24 26]\n",
      "sec7: [27 22 15 10  3]\n"
     ]
    }
   ],
   "source": [
    "# 14. Take 'comboArray' and perform the following slicing activities:\n",
    "\n",
    "# print sec1 - the 2nd element\n",
    "\n",
    "# print sec2 - all elements from the 3rd element to the last\n",
    "\n",
    "# print sec3 - all elements from the 4th to the 14th elements\n",
    "\n",
    "# print sec4 - the last 6 elements\n",
    "\n",
    "# print sec5 - all element from #0 up to and including #15, using the negative number method, i.e. \n",
    "# taking a section from the end.\n",
    "\n",
    "# print sec6 - from #20 every even element to the end\n",
    "\n",
    "# print sec7 - from the last element moving forward, every 5th element.\n",
    "\n",
    "sec1 = comboArray[1]\n",
    "print(\"sec1:\", sec1)\n",
    "\n",
    "sec2 = comboArray[2:]\n",
    "print(\"sec2:\", sec2)\n",
    "\n",
    "sec3 = comboArray[3:14]\n",
    "print(\"sec3:\", sec3)\n",
    "\n",
    "sec4 = comboArray[-6:]\n",
    "print(\"sec4:\", sec4)\n",
    "\n",
    "sec5 = comboArray[:-10]\n",
    "print(\"sec5:\", sec5)\n",
    "\n",
    "numbers_from_20 = comboArray[16:]\n",
    "print(\"Numbers from 20:\", numbers_from_20)\n",
    "sec6 = numbers_from_20[numbers_from_20 % 2 == 0]\n",
    "print(\"sec6:\", sec6)  \n",
    "\n",
    "sec7 = comboArray[-1::-5]\n",
    "print(\"sec7:\", sec7)\n"
   ]
  },
  {
   "cell_type": "code",
   "execution_count": 11,
   "id": "9b61561d",
   "metadata": {},
   "outputs": [
    {
     "name": "stdout",
     "output_type": "stream",
     "text": [
      "Flour     4 cups\n",
      "Milk       1 cup\n",
      "Eggs     2 large\n",
      "Spam       1 can\n",
      "Name: Dinner, dtype: object\n"
     ]
    }
   ],
   "source": [
    "# Using Series, create a DataFrame that looks like this:\n",
    "\n",
    "# IngredientsQuantityUnitFlour4cupsMilk1cupEggs2largeSpam1can\n",
    "\n",
    "# Name: Dinner, dtype: object\n",
    "\n",
    "import pandas as pd\n",
    "\n",
    "# Create a dictionary with the data\n",
    "data = {\n",
    "    'Flour': ['4', 'cups'],\n",
    "    'Milk': ['1', 'cup'],\n",
    "    'Eggs': ['2', 'large'],\n",
    "    'Spam': ['1', 'can']\n",
    "}\n",
    "\n",
    "# Convert the dictionary to a Series of strings\n",
    "dinner_series = pd.Series(\n",
    "    [f\"{qty} {unit}\" for qty, unit in data.values()],\n",
    "    index=data.keys(),\n",
    "    name=\"Dinner\"\n",
    ")\n",
    "\n",
    "print(dinner_series)\n"
   ]
  },
  {
   "cell_type": "code",
   "execution_count": 12,
   "id": "7f93afd4",
   "metadata": {},
   "outputs": [
    {
     "name": "stdout",
     "output_type": "stream",
     "text": [
      "      Name  Height Qualification  address  Age        Pets           sport\n",
      "0      Jai     5.1           Msc    Delhi   21         Dog           Darts\n",
      "1  janusha     6.2            MA     Doha   23       Bunny      Basketball\n",
      "2   Gaurav     5.1           Msc  Chennai   24  Chinchilla  PaddleBoarding\n",
      "3     Anuj     5.2           Msc   Dakhar   21      Parrot         Cricket\n"
     ]
    }
   ],
   "source": [
    "# 16. Take this data and create a DataFrame named studentData\n",
    "\n",
    "#    {'Name': ['Jai', 'janusha', 'Gaurav', 'Anuj'],\n",
    "#         'Height': [5.1, 6.2, 5.1, 5.2],\n",
    "#         'Qualification': ['Msc', 'MA', 'Msc', 'Msc'],\n",
    "#         'address': ['Delhi', 'Doha', 'Chennai', 'Dakhar'],\n",
    "#         'Age': [21, 23, 24, 21],\n",
    "#         'Pets': ['Dog', 'Bunny', 'Chinchilla', 'Parrot'],\n",
    "#         'sport': ['Darts', 'Basketball', 'PaddleBoarding', 'Cricket']\n",
    "#     }\n",
    "\n",
    "import pandas as pd\n",
    "\n",
    "# Given data\n",
    "data = {\n",
    "    'Name': ['Jai', 'janusha', 'Gaurav', 'Anuj'],\n",
    "    'Height': [5.1, 6.2, 5.1, 5.2],\n",
    "    'Qualification': ['Msc', 'MA', 'Msc', 'Msc'],\n",
    "    'address': ['Delhi', 'Doha', 'Chennai', 'Dakhar'],\n",
    "    'Age': [21, 23, 24, 21],\n",
    "    'Pets': ['Dog', 'Bunny', 'Chinchilla', 'Parrot'],\n",
    "    'sport': ['Darts', 'Basketball', 'PaddleBoarding', 'Cricket']\n",
    "}\n",
    "\n",
    "# Create DataFrame\n",
    "studentData = pd.DataFrame(data)\n",
    "\n",
    "# Display the DataFrame\n",
    "print(studentData)"
   ]
  },
  {
   "cell_type": "code",
   "execution_count": 13,
   "id": "9050baf1",
   "metadata": {},
   "outputs": [
    {
     "name": "stdout",
     "output_type": "stream",
     "text": [
      "Updated DataFrame with Desserts:\n",
      "       Name  Height Qualification  address  Age        Pets           sport  \\\n",
      "0      Jai     5.1           Msc    Delhi   21         Dog           Darts   \n",
      "1  janusha     6.2            MA     Doha   23       Bunny      Basketball   \n",
      "2   Gaurav     5.1           Msc  Chennai   24  Chinchilla  PaddleBoarding   \n",
      "3     Anuj     5.2           Msc   Dakhar   21      Parrot         Cricket   \n",
      "\n",
      "       Desserts  \n",
      "0     ice cream  \n",
      "1  Cashew Fudge  \n",
      "2       waffels  \n",
      "3  Carrot Halwa  \n"
     ]
    }
   ],
   "source": [
    "# 17. Add a new column to the DataFrame with the following deserts: \n",
    "# [\"ice cream\", \"Cashew Fudge\", \"waffels\", \"Carrot Halwa\"]\n",
    "\n",
    "desserts = [\"ice cream\", \"Cashew Fudge\", \"waffels\", \"Carrot Halwa\"]\n",
    "studentData['Desserts'] = desserts\n",
    "print(\"Updated DataFrame with Desserts:\\n\", studentData)"
   ]
  },
  {
   "cell_type": "code",
   "execution_count": 14,
   "id": "bdb7f0df",
   "metadata": {},
   "outputs": [
    {
     "name": "stdout",
     "output_type": "stream",
     "text": [
      "Sorted DataFrame:\n",
      "       Name  Height Qualification  address  Age        Pets           sport  \\\n",
      "3     Anuj     5.2           Msc   Dakhar   21      Parrot         Cricket   \n",
      "2   Gaurav     5.1           Msc  Chennai   24  Chinchilla  PaddleBoarding   \n",
      "0      Jai     5.1           Msc    Delhi   21         Dog           Darts   \n",
      "1  janusha     6.2            MA     Doha   23       Bunny      Basketball   \n",
      "\n",
      "       Desserts  \n",
      "3  Carrot Halwa  \n",
      "2       waffels  \n",
      "0     ice cream  \n",
      "1  Cashew Fudge  \n"
     ]
    }
   ],
   "source": [
    "# 18. Sort the 'studentData' DataFrame in Ascending order -- Sorting by column 'Name' and then \"address\"\n",
    "\n",
    "studentData_sorted = studentData.sort_values(by=['Name', 'address'], ascending=True)\n",
    "print(\"Sorted DataFrame:\\n\", studentData_sorted)    \n"
   ]
  },
  {
   "cell_type": "code",
   "execution_count": 15,
   "id": "680feeeb",
   "metadata": {},
   "outputs": [
    {
     "name": "stdout",
     "output_type": "stream",
     "text": [
      "DataFrame saved as 'cows_and_goats.csv'\n"
     ]
    }
   ],
   "source": [
    "# 19. Save this DataFrame here below to disc as a .CSV file with the name cows_and_goats.csv:\n",
    "#  df = pd.DataFrame({'Cows': [12, 20], 'Goats': [22, 19]}, index=['Year 1', 'Year 2'])\n",
    "\n",
    "import pandas as pd\n",
    "\n",
    "# Create the DataFrame\n",
    "df = pd.DataFrame({'Cows': [12, 20], 'Goats': [22, 19]}, index=['Year 1', 'Year 2'])\n",
    "\n",
    "# Save to CSV file\n",
    "df.to_csv('cows_and_goats.csv')\n",
    "\n",
    "print(\"DataFrame saved as 'cows_and_goats.csv'\")\n"
   ]
  },
  {
   "cell_type": "code",
   "execution_count": 16,
   "id": "05b2d11b",
   "metadata": {},
   "outputs": [
    {
     "name": "stdout",
     "output_type": "stream",
     "text": [
      "vegetables.csv saved!\n",
      "vegetables_updated.csv saved with changes!\n"
     ]
    }
   ],
   "source": [
    "import pandas as pd\n",
    "\n",
    "# Create a DataFrame about vegetables\n",
    "veg_data = {\n",
    "    'Vegetable': ['Carrot', 'Broccoli', 'Spinach', 'Peas'],\n",
    "    'Quantity': [10, 5, 8, 12],\n",
    "    'Unit': ['kg', 'kg', 'kg', 'kg'],\n",
    "    'Price_per_kg': [2.5, 3.0, 4.0, 2.0]\n",
    "}\n",
    "\n",
    "veg_df = pd.DataFrame(veg_data)\n",
    "\n",
    "# Save to CSV\n",
    "veg_df.to_csv('vegetables.csv', index=False)\n",
    "\n",
    "print(\"vegetables.csv saved!\")\n",
    "\n",
    "# Making changes to vegetables.csv\n",
    "\n",
    "# Load the CSV file\n",
    "veg_df_loaded = pd.read_csv('vegetables.csv')\n",
    "\n",
    "# Let's say we update the quantity of 'Carrot' and add a new vegetable\n",
    "veg_df_loaded.loc[veg_df_loaded['Vegetable'] == 'Spinach', 'Quantity'] = 15\n",
    "\n",
    "# Add a new row\n",
    "# Create new row as a DataFrame\n",
    "new_veg = pd.DataFrame([{\n",
    "    'Vegetable': 'Tomato',\n",
    "    'Quantity': 20,\n",
    "    'Unit': 'kg',\n",
    "    'Price_per_kg': 1.8\n",
    "}])\n",
    "\n",
    "veg_df_updated = pd.concat([veg_df_loaded, new_veg], ignore_index=True)\n",
    "\n",
    "# Save the updated DataFrame as a new CSV\n",
    "veg_df_updated.to_csv('vegetables_updated.csv', index=False)\n",
    "\n",
    "print(\"vegetables_updated.csv saved with changes!\")\n",
    "\n"
   ]
  },
  {
   "cell_type": "markdown",
   "id": "12338edc",
   "metadata": {},
   "source": [
    "# 1. What does Pandas stand for?\n",
    "**\"Pan\"**el **\"Da\"**ta → Pandas\n",
    "\n",
    "It was created to make data analysis in Python easier, especially for structured data (like spreadsheets or SQL tables).\n",
    "\n"
   ]
  },
  {
   "cell_type": "markdown",
   "id": "4d88d5a3",
   "metadata": {},
   "source": [
    "# 2. What are the 2 collections used in Pandas?\n",
    "Series, DataFrame"
   ]
  },
  {
   "cell_type": "markdown",
   "id": "e222a2ae",
   "metadata": {},
   "source": [
    "# 3. Name 4 things Pandas can do for us.\n",
    "Data Cleaning\n",
    "Data Analysis and Aggregation\n",
    "Data Filtering and Selection\n",
    "Read/Write Data of various formats CSV, Excel, JSON, SQL\n"
   ]
  },
  {
   "cell_type": "markdown",
   "id": "8212e302",
   "metadata": {},
   "source": [
    "# 4. To permanently sort a DataFrame, which keyword should one use with the df.sort() method?\n",
    "inplace = True"
   ]
  },
  {
   "cell_type": "markdown",
   "id": "a7834879",
   "metadata": {},
   "source": [
    "# 5. What is a CSV?\n",
    "CSV stands for Comma-Separated Values.It’s a plain text file format used to store tabular data (like rows and columns) where:\n",
    "\n",
    "Each row is a line in the file.\n",
    "\n",
    "Each value (or column) in a row is separated by a comma."
   ]
  },
  {
   "cell_type": "markdown",
   "id": "c4d2f237",
   "metadata": {},
   "source": [
    "# 6. When cleaning data what values do we not like in our data?\n",
    "Missing values, Duplicate Rows, Inconsistent formatting, Invalid values, Wrong datatypes."
   ]
  }
 ],
 "metadata": {
  "kernelspec": {
   "display_name": "Python 3",
   "language": "python",
   "name": "python3"
  },
  "language_info": {
   "codemirror_mode": {
    "name": "ipython",
    "version": 3
   },
   "file_extension": ".py",
   "mimetype": "text/x-python",
   "name": "python",
   "nbconvert_exporter": "python",
   "pygments_lexer": "ipython3",
   "version": "3.13.3"
  }
 },
 "nbformat": 4,
 "nbformat_minor": 5
}
