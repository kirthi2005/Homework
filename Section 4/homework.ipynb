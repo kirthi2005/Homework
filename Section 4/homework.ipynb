{
 "cells": [
  {
   "cell_type": "markdown",
   "id": "5344aa82",
   "metadata": {},
   "source": []
  },
  {
   "cell_type": "code",
   "execution_count": null,
   "id": "873e2b41",
   "metadata": {},
   "outputs": [],
   "source": [
    "'''\n",
    "Create an if statement: if 'age' is greater than or equal to 25, print \"Renting a car is more affordable\",\n",
    " however if 'age' is less than 25, print \"Renting a car is very expensive.\"\n",
    " \n",
    "'''\n",
    "\n",
    "age_input = int(input('Enter your age'))\n",
    "\n",
    "if(age_input >= 25):\n",
    "    print('Renting a car is more affordable')\n",
    "else:\n",
    "    print('Renting a car is very expensive.')\n"
   ]
  },
  {
   "cell_type": "code",
   "execution_count": null,
   "id": "616ffdc2",
   "metadata": {},
   "outputs": [],
   "source": [
    "'''\n",
    "Create and chain an if-else statement: \n",
    "if 'age' is greater than or equal to 25, print \"Renting a car is more affordable.\"\n",
    "If 'age' is less than 25 but greater than or equal to 18, print \"Renting a car is very expensive.\" \n",
    "Finally, if age is less than 18, print \"You cannot legally rent a car.\"\n",
    "\n",
    "'''\n",
    "age_input = int(input('Enter your age'))\n",
    "\n",
    "if(age_input >= 25):\n",
    "    print('Renting a car is more affordable')\n",
    "elif(age_input >= 18 and age_input < 25):\n",
    "    print('Renting a car is very expensive.')\n",
    "else:\n",
    "    print('You cannot legally rent a car.')\n",
    "\n"
   ]
  },
  {
   "cell_type": "code",
   "execution_count": 26,
   "id": "e018c5ae",
   "metadata": {},
   "outputs": [
    {
     "name": "stdout",
     "output_type": "stream",
     "text": [
      "35\n"
     ]
    }
   ],
   "source": [
    "'''\n",
    "Loop over the following string to (1) count all the characters in the string and (2) print out all the vowels -- \n",
    "\"The quick brown fox jumps over the lazy dog\"\n",
    "\n",
    "'''\n",
    "\n",
    "# count all the characters in the string\n",
    "\n",
    "input_string = 'The quick brown fox jumps over the lazy dog'\n",
    "count = 0\n",
    "\n",
    "\n",
    "for character in input_string:\n",
    "    #print(character)\n",
    "    if(character.isalpha()):\n",
    "        count += 1\n",
    "\n",
    "print(count)\n",
    "\n"
   ]
  },
  {
   "cell_type": "code",
   "execution_count": null,
   "id": "995ef4ac",
   "metadata": {},
   "outputs": [
    {
     "name": "stdout",
     "output_type": "stream",
     "text": [
      "length of the input string: 43\n",
      "Total vowel count 11\n"
     ]
    }
   ],
   "source": [
    "'''\n",
    "Loop over the following string to (1) count all the characters in the string and (2) print out all the vowels -- \n",
    "\"The quick brown fox jumps over the lazy dog\"\n",
    "\n",
    "'''\n",
    "\n",
    "# print out all the vowels\n",
    "\n",
    "input_string = 'The quick brown fox jumps over the lazy dog'\n",
    "count = 1\n",
    "vowel_count = 0\n",
    "\n",
    "input_string_length = len(input_string)\n",
    "\n",
    "print(f'length of the input string: {input_string_length}')\n",
    "\n",
    "while(count < input_string_length):\n",
    "    if(input_string[count] in ['a','e','i','o','u']):\n",
    "        #print('vowels present in string',input_string[count])\n",
    "        vowel_count += 1\n",
    "        count += 1\n",
    "        \n",
    "    else:\n",
    "        count += 1\n",
    "\n",
    "print('Total vowel count',vowel_count)\n",
    "\n",
    "\n"
   ]
  },
  {
   "cell_type": "code",
   "execution_count": 30,
   "id": "03781191",
   "metadata": {},
   "outputs": [
    {
     "name": "stdout",
     "output_type": "stream",
     "text": [
      "mapletrousers\n",
      "cerisetrousers\n",
      "fuchsiatrousers\n",
      "gunmetal bluetrousers\n",
      "burnt siennatrousers\n",
      "auburntrousers\n",
      "aquatrousers\n",
      "Dark Sapphiretrousers\n",
      "mapleblouse\n",
      "ceriseblouse\n",
      "fuchsiablouse\n",
      "gunmetal blueblouse\n",
      "burnt siennablouse\n",
      "auburnblouse\n",
      "aquablouse\n",
      "Dark Sapphireblouse\n",
      "maplebandana\n",
      "cerisebandana\n",
      "fuchsiabandana\n",
      "gunmetal bluebandana\n",
      "burnt siennabandana\n",
      "auburnbandana\n",
      "aquabandana\n",
      "Dark Sapphirebandana\n",
      "maplecumber band\n",
      "cerisecumber band\n",
      "fuchsiacumber band\n",
      "gunmetal bluecumber band\n",
      "burnt siennacumber band\n",
      "auburncumber band\n",
      "aquacumber band\n",
      "Dark Sapphirecumber band\n",
      "mapleblazer\n",
      "ceriseblazer\n",
      "fuchsiablazer\n",
      "gunmetal blueblazer\n",
      "burnt siennablazer\n",
      "auburnblazer\n",
      "aquablazer\n",
      "Dark Sapphireblazer\n",
      "maplevest\n",
      "cerisevest\n",
      "fuchsiavest\n",
      "gunmetal bluevest\n",
      "burnt siennavest\n",
      "auburnvest\n",
      "aquavest\n",
      "Dark Sapphirevest\n",
      "maplefrench beret\n",
      "cerisefrench beret\n",
      "fuchsiafrench beret\n",
      "gunmetal bluefrench beret\n",
      "burnt siennafrench beret\n",
      "auburnfrench beret\n",
      "aquafrench beret\n",
      "Dark Sapphirefrench beret\n",
      "maplescarf\n",
      "cerisescarf\n",
      "fuchsiascarf\n",
      "gunmetal bluescarf\n",
      "burnt siennascarf\n",
      "auburnscarf\n",
      "aquascarf\n",
      "Dark Sapphirescarf\n",
      "maplestole\n",
      "cerisestole\n",
      "fuchsiastole\n",
      "gunmetal bluestole\n",
      "burnt siennastole\n",
      "auburnstole\n",
      "aquastole\n",
      "Dark Sapphirestole\n"
     ]
    }
   ],
   "source": [
    "'''\n",
    "Write a nested loop that prints out every piece of clothing from the couture list, in every fashionable color from the panettone set: \n",
    "couture = [\"trousers\", \"blouse\", \"bandana\", \"cumber band\", \"blazer\", \"vest\", \"french beret\", \"scarf\", \"stole\"] and \n",
    "panettone = {\"cerise\", \"fuchsia\", \"aqua\", \"maple\", \"auburn\", \"burnt sienna\", \"gunmetal blue\", \"Dark Sapphire\"}\n",
    "\n",
    "'''\n",
    "\n",
    "couture = [\"trousers\", \"blouse\", \"bandana\", \"cumber band\", \"blazer\", \"vest\", \"french beret\", \"scarf\", \"stole\"] \n",
    "panettone = {\"cerise\", \"fuchsia\", \"aqua\", \"maple\", \"auburn\", \"burnt sienna\", \"gunmetal blue\", \"Dark Sapphire\"}\n",
    "\n",
    "for cloth in couture:\n",
    "    #print(f'\\ncloth: {cloth}')\n",
    "    for color in panettone:\n",
    "        #print(color)\n",
    "        print(f'{color }{cloth}')"
   ]
  },
  {
   "cell_type": "code",
   "execution_count": 32,
   "id": "4bd9b7d1",
   "metadata": {},
   "outputs": [
    {
     "name": "stdout",
     "output_type": "stream",
     "text": [
      "5050\n"
     ]
    }
   ],
   "source": [
    "'''\n",
    "Use range as a loop to calculate the sum of all the numbers from 1 to 100\n",
    "\n",
    "'''\n",
    "\n",
    "sum = 0\n",
    "\n",
    "for i in range(1,101):\n",
    "    sum = sum + i\n",
    "\n",
    "print(sum)\n"
   ]
  },
  {
   "cell_type": "code",
   "execution_count": 33,
   "id": "c3f0b9ec",
   "metadata": {},
   "outputs": [
    {
     "name": "stdout",
     "output_type": "stream",
     "text": [
      "banana\n"
     ]
    }
   ],
   "source": [
    "# Print the second item in this fruits list. [\"apple\", \"banana\", \"cherry\"]\n",
    "\n",
    "fruits = [\"apple\", \"banana\", \"cherry\"]\n",
    "print(fruits[1])"
   ]
  },
  {
   "cell_type": "code",
   "execution_count": 34,
   "id": "a94c211e",
   "metadata": {},
   "outputs": [
    {
     "name": "stdout",
     "output_type": "stream",
     "text": [
      "['kiwi', 'banana', 'cherry']\n"
     ]
    }
   ],
   "source": [
    "# Change the value from \"apple\" to \"kiwi\", in the fruits list. [\"apple\", \"banana\", \"cherry\"]\n",
    "\n",
    "fruits = [\"apple\", \"banana\", \"cherry\"]\n",
    "fruits[0] = 'kiwi'\n",
    "print(fruits)"
   ]
  },
  {
   "cell_type": "code",
   "execution_count": 35,
   "id": "508b29ba",
   "metadata": {},
   "outputs": [
    {
     "name": "stdout",
     "output_type": "stream",
     "text": [
      "['apple', 'banana', 'cherry', 'orange']\n"
     ]
    }
   ],
   "source": [
    "# Use the append method to add \"orange\" to the fruits list. [\"apple\", \"banana\", \"cherry\"]\n",
    "\n",
    "fruits = [\"apple\", \"banana\", \"cherry\"]\n",
    "fruits.append('orange')\n",
    "print(fruits)"
   ]
  },
  {
   "cell_type": "code",
   "execution_count": 36,
   "id": "0e83ce46",
   "metadata": {},
   "outputs": [
    {
     "name": "stdout",
     "output_type": "stream",
     "text": [
      "['apple', 'lemon', 'banana', 'cherry']\n"
     ]
    }
   ],
   "source": [
    "# Use the insert method to add \"lemon\" as the second item in the fruits list. [\"apple\", \"banana\", \"cherry\"]\n",
    "\n",
    "fruits = [\"apple\", \"banana\", \"cherry\"]\n",
    "fruits.insert(1,'lemon')\n",
    "print(fruits)"
   ]
  },
  {
   "cell_type": "code",
   "execution_count": 38,
   "id": "9f2da1ae",
   "metadata": {},
   "outputs": [
    {
     "name": "stdout",
     "output_type": "stream",
     "text": [
      "['apple', 'cherry']\n"
     ]
    }
   ],
   "source": [
    "# Use the remove method to remove \"banana\" from the fruits list. [\"apple\", \"banana\", \"cherry\"]\n",
    "\n",
    "fruits = [\"apple\", \"banana\", \"cherry\"]\n",
    "fruits.remove('banana')\n",
    "print(fruits)"
   ]
  },
  {
   "cell_type": "code",
   "execution_count": 39,
   "id": "53dbf0e2",
   "metadata": {},
   "outputs": [
    {
     "name": "stdout",
     "output_type": "stream",
     "text": [
      "melon\n",
      "kiwi\n"
     ]
    }
   ],
   "source": [
    "# Use negative indexing to print the 3rd and 2nd to last items in the list. [\"apple\", \"banana\", \"cherry\", \"orange\", \"kiwi\", \"melon\", \"mango\"]\n",
    "\n",
    "fruits = [\"apple\", \"banana\", \"cherry\", \"orange\", \"kiwi\", \"melon\", \"mango\"]\n",
    "print(fruits[-2])\n",
    "print(fruits[-3])"
   ]
  },
  {
   "cell_type": "code",
   "execution_count": 43,
   "id": "a0e7f59b",
   "metadata": {},
   "outputs": [
    {
     "name": "stdout",
     "output_type": "stream",
     "text": [
      "cherry\n",
      "orange\n",
      "kiwi\n"
     ]
    }
   ],
   "source": [
    "#Use a range of indexes to print the third, fourth, and fifth item in the list. [\"apple\", \"banana\", \"cherry\", \"orange\", \"kiwi\", \"melon\", \"mango\"]\n",
    "\n",
    "fruits = [\"apple\", \"banana\", \"cherry\", \"orange\", \"kiwi\", \"melon\", \"mango\"]\n",
    "\n",
    "for index_pos in range(2,5):\n",
    "    print(fruits[index_pos])"
   ]
  },
  {
   "cell_type": "code",
   "execution_count": null,
   "id": "e526bf18",
   "metadata": {},
   "outputs": [
    {
     "name": "stdout",
     "output_type": "stream",
     "text": [
      "7\n",
      "<built-in method count of list object at 0x0000011D8B91C580>\n"
     ]
    }
   ],
   "source": [
    "# Use the correct syntax to print the number of items in the list. [\"apple\", \"banana\", \"cherry\", \"orange\", \"kiwi\", \"melon\", \"mango\"]\n",
    "\n",
    "fruits = [\"apple\", \"banana\", \"cherry\", \"orange\", \"kiwi\", \"melon\", \"mango\"]\n",
    "print(len(fruits))"
   ]
  },
  {
   "cell_type": "code",
   "execution_count": 52,
   "id": "2ce2f564",
   "metadata": {},
   "outputs": [
    {
     "name": "stdout",
     "output_type": "stream",
     "text": [
      "['mango', 'melon', 'kiwi', 'orange', 'cherry', 'banana', 'apple']\n"
     ]
    }
   ],
   "source": [
    "# Use the correct syntax to sort this list in reverse order [\"apple\", \"banana\", \"cherry\", \"orange\", \"kiwi\", \"melon\", \"mango\"]\n",
    "\n",
    "fruits = [\"apple\", \"banana\", \"cherry\", \"orange\", \"kiwi\", \"melon\", \"mango\"]\n",
    "fruits.reverse()\n",
    "print(fruits)"
   ]
  },
  {
   "cell_type": "markdown",
   "id": "d9638b8f",
   "metadata": {},
   "source": [
    "Use markdown formatting for the following questions (e.g., bold lettering, bullet points, different font sizes, etc.):\n",
    "\n",
    "1. What does one need to do to use a module?\n",
    "    To use a module we have to import the module first.\n",
    "   \n",
    "\n"
   ]
  },
  {
   "cell_type": "markdown",
   "id": "4c21e1af",
   "metadata": {},
   "source": [
    "2. Name a Module (not the DateTime Nodule) we looked at and write a line or 2 of code as an example using this module.\n",
    "\n",
    " Module: import math\n",
    "         print(math.sqrt(5))\n"
   ]
  },
  {
   "cell_type": "markdown",
   "id": "a704d9b7",
   "metadata": {},
   "source": [
    "3. What is a benefit of using Exception handling?\n",
    "\n",
    "    Usually if an error occurs, the program crashes. To avoid this and allow the program to run continuously we need to properly handle the errors using Exception handling"
   ]
  },
  {
   "cell_type": "markdown",
   "id": "e717c501",
   "metadata": {},
   "source": [
    "4. what are the 4 components used for Python Exception Handling?\n",
    "Try\n",
    "Exception\n",
    "Else\n",
    "Finally"
   ]
  },
  {
   "cell_type": "markdown",
   "id": "81b33cd4",
   "metadata": {},
   "source": [
    "5. NumPy arrays are like what Python data type?\n",
    "list"
   ]
  },
  {
   "cell_type": "markdown",
   "id": "fb60622f",
   "metadata": {
    "vscode": {
     "languageId": "sql"
    }
   },
   "source": [
    "6. What is one of the main benefits of using NumPy arrays?\n",
    " NumPy arrays are faster compared to lists"
   ]
  },
  {
   "cell_type": "markdown",
   "id": "be10c3dd",
   "metadata": {},
   "source": [
    "7. What is one of the main requirements about the 'dtype' of NumPy arrays?\n",
    "One of the main requirements about the dtype (data type) of NumPy arrays is that all elements in a NumPy array must have the same dtype. This means that a NumPy array is homogeneous "
   ]
  },
  {
   "cell_type": "markdown",
   "id": "cc459701",
   "metadata": {},
   "source": [
    "8. Of the 10 uses of NumPy, name 2.\n",
    "NumPy is used to perform fast computations on large datasets\n",
    "Essential for operations on matrix "
   ]
  },
  {
   "cell_type": "markdown",
   "id": "165683f9",
   "metadata": {},
   "source": [
    "9.Name one of the other libraries we'll use with NumPy?\n",
    "Pandas"
   ]
  },
  {
   "cell_type": "markdown",
   "id": "a9d0eb05",
   "metadata": {},
   "source": [
    "10. What is the shape of NumPy arrays?\n",
    "The shape of NumPy arrays describes the number of elements along each dimension."
   ]
  },
  {
   "cell_type": "markdown",
   "id": "ac223d3c",
   "metadata": {},
   "source": [
    "11. What is a Tensor?\n",
    "A tensor is a multi-dimensional array, a generalization of scalars (0D), vectors (1D), and matrices (2D) to any number of dimensions."
   ]
  },
  {
   "cell_type": "markdown",
   "id": "a8542f3d",
   "metadata": {},
   "source": [
    "12. Name a reason why it's better using NumPy for Data Analysis than using a Python List?\n",
    "NumPy is better for data analysis than Python lists because it allows for faster computations and uses less memory.\n",
    "\n",
    "NumPy arrays support vectorized operations, making data processing much more efficient than looping through lists.\n",
    "They also provide many built-in functions for mathematical and statistical analysis.\n"
   ]
  },
  {
   "cell_type": "markdown",
   "id": "51b18223",
   "metadata": {},
   "source": [
    "13. When creating an \"empty\" array, where do the elements come from?\n",
    "When creating an \"empty\" array in NumPy, the elements are uninitialized and contain whatever values already exist at that memory location. These values are essentially random or \"garbage\" data until you assign new values."
   ]
  }
 ],
 "metadata": {
  "kernelspec": {
   "display_name": "Python 3",
   "language": "python",
   "name": "python3"
  },
  "language_info": {
   "codemirror_mode": {
    "name": "ipython",
    "version": 3
   },
   "file_extension": ".py",
   "mimetype": "text/x-python",
   "name": "python",
   "nbconvert_exporter": "python",
   "pygments_lexer": "ipython3",
   "version": "3.13.3"
  }
 },
 "nbformat": 4,
 "nbformat_minor": 5
}
