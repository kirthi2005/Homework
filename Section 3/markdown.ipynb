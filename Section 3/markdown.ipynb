{
 "cells": [
  {
   "cell_type": "markdown",
   "id": "d8f53f6d",
   "metadata": {},
   "source": [
    "1. What is an algorithm?\n",
    "An algorithm is a series of steps to solve a problem at hand"
   ]
  },
  {
   "cell_type": "markdown",
   "id": "80508a5e",
   "metadata": {},
   "source": [
    "2. Variable names may not start with certain characters - name two.\n",
    "Numbers and some special characters like @,#,$,%"
   ]
  },
  {
   "cell_type": "markdown",
   "id": "cd1e336b",
   "metadata": {},
   "source": [
    "3. What is a Semantic error?\n",
    "SEMANTIC errors – code is grammatically correct but doesn't make any sense; it does not produce the expected results"
   ]
  },
  {
   "cell_type": "markdown",
   "id": "c88df347",
   "metadata": {},
   "source": [
    "4. What is the #1 rule of coding / debugging?\n",
    "The #1 Rule: Complexity is the enemy of efficiency!"
   ]
  },
  {
   "cell_type": "markdown",
   "id": "88659715",
   "metadata": {},
   "source": [
    "5. List 5 Python reserved words.\n",
    "if, else, return, def, while, break"
   ]
  }
 ],
 "metadata": {
  "language_info": {
   "name": "python"
  }
 },
 "nbformat": 4,
 "nbformat_minor": 5
}
