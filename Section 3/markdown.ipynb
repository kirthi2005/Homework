{
 "cells": [
  {
   "cell_type": "markdown",
   "id": "d8f53f6d",
   "metadata": {},
   "source": [
    "1. What is an algorithm?"
   ]
  },
  {
   "cell_type": "markdown",
   "id": "80508a5e",
   "metadata": {},
   "source": [
    "2. Variable names may not start with certain characters - name two."
   ]
  },
  {
   "cell_type": "markdown",
   "id": "cd1e336b",
   "metadata": {},
   "source": [
    "3. What is a Semantic error?"
   ]
  },
  {
   "cell_type": "markdown",
   "id": "c88df347",
   "metadata": {},
   "source": [
    "4. What is the #1 rule of coding / debugging?"
   ]
  },
  {
   "cell_type": "markdown",
   "id": "88659715",
   "metadata": {},
   "source": [
    "5. List 5 Python reserved words."
   ]
  }
 ],
 "metadata": {
  "language_info": {
   "name": "python"
  }
 },
 "nbformat": 4,
 "nbformat_minor": 5
}
