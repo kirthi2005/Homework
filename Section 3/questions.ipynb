{
 "cells": [
  {
   "cell_type": "code",
   "execution_count": null,
   "id": "f0d06770",
   "metadata": {},
   "outputs": [],
   "source": [
    "# Write a multi-line string with your name, favorite food, and dream job on 3 different lines\n",
    "\n",
    "'''\n",
    "\n",
    "Kiruthika\n",
    "Chipotle Burrito Bowl\n",
    "Data Analyst\n",
    "\n",
    "'''"
   ]
  },
  {
   "cell_type": "code",
   "execution_count": null,
   "id": "effa3150",
   "metadata": {},
   "outputs": [
    {
     "name": "stdout",
     "output_type": "stream",
     "text": [
      "11\n",
      "4th character is:  l\n"
     ]
    }
   ],
   "source": [
    "# Assign 5 different data types to 5 different variables. At least one datatype must be a string\n",
    "# Print the length of your string\n",
    "# Print the index value of the 4th character in your string\n",
    "\n",
    "var1 = 10\n",
    "var2 = \"Hello World\"\n",
    "var3 = 14.3\n",
    "var4 = [10,12,\"Hi\"]\n",
    "var5 = True\n",
    "\n",
    "string_length = len(var2)\n",
    "print(string_length)\n",
    "\n",
    "print('4th character is: ', var2[3] )"
   ]
  },
  {
   "cell_type": "code",
   "execution_count": 9,
   "id": "c891fb71",
   "metadata": {},
   "outputs": [
    {
     "name": "stdout",
     "output_type": "stream",
     "text": [
      "ing Data Analytic\n",
      "Learning Data Analytics and Python is great!\n",
      "True\n"
     ]
    }
   ],
   "source": [
    "#  Create a new variable called savvy, and assign it the string with this phrase \"Learning Data Analytics and Python is Awesome!\"\n",
    "# Return a range of characters that slices the above string from the beginning of \"ing\" up to before \"and\"\n",
    "# Replace \"Awesome\" with \"great\" in the string\n",
    "# Test and print the savvy string to see it contains \"Python\"\n",
    "\n",
    "savvy = \"Learning Data Analytics and Python is Awesome!\"\n",
    "print(savvy[5: 22])\n",
    "\n",
    "savvy= savvy.replace('Awesome','great')\n",
    "print(savvy)\n",
    "\n",
    "print(\"Python\" in savvy)"
   ]
  },
  {
   "cell_type": "code",
   "execution_count": 14,
   "id": "1d43c2bb",
   "metadata": {},
   "outputs": [
    {
     "name": "stdout",
     "output_type": "stream",
     "text": [
      "Hi my name is Maria, I am 5.3 feet tall and 22 old today.\n",
      "22.0\n"
     ]
    }
   ],
   "source": [
    "# 9. Create and assign 3 more variables called name, age and length using the multi-variable naming method\n",
    "#Format a new string called 'miniBio' using variables in curly brackets to complete this phrase... \"Hi my name is (name), I am (tall) and (so) old today.\"\n",
    "#Print 'miniBio'\n",
    "#Cast and print the age variable to a float\n",
    "\n",
    "name, age, length = 'Maria', 22, 5.3\n",
    "miniBio = f\"Hi my name is {name}, I am {length} feet tall and {age} old today.\"\n",
    "print(miniBio)\n",
    "\n",
    "print(float(age))\n",
    "\n",
    "\n"
   ]
  }
 ],
 "metadata": {
  "kernelspec": {
   "display_name": "Python 3",
   "language": "python",
   "name": "python3"
  },
  "language_info": {
   "codemirror_mode": {
    "name": "ipython",
    "version": 3
   },
   "file_extension": ".py",
   "mimetype": "text/x-python",
   "name": "python",
   "nbconvert_exporter": "python",
   "pygments_lexer": "ipython3",
   "version": "3.13.3"
  }
 },
 "nbformat": 4,
 "nbformat_minor": 5
}
